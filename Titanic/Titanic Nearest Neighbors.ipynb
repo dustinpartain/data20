{
 "cells": [
  {
   "cell_type": "code",
   "execution_count": 27,
   "metadata": {},
   "outputs": [],
   "source": [
    "import numpy as np\n",
    "import pandas as pd\n",
    "import matplotlib.pyplot as plt\n",
    "from sklearn.preprocessing import scale\n",
    "from sklearn import metrics\n",
    "from sklearn.neighbors import KNeighborsClassifier\n",
    "\n",
    "%matplotlib inline"
   ]
  },
  {
   "cell_type": "code",
   "execution_count": 28,
   "metadata": {},
   "outputs": [],
   "source": [
    "df = pd.read_excel('Titanic Classification.xlsx')\n",
    "\n",
    "X = df.iloc[:, 1:5]\n",
    "y = df.iloc[:, 0]"
   ]
  },
  {
   "cell_type": "code",
   "execution_count": 33,
   "metadata": {},
   "outputs": [],
   "source": [
    "# Try different values of k\n",
    "acc = []\n",
    "for i in range(1, 21):\n",
    "    knn = KNeighborsClassifier(n_neighbors=i)\n",
    "    knn.fit(X, y)\n",
    "    yhat = knn.predict(X)\n",
    "    acc = acc + [metrics.accuracy_score(y, yhat)]"
   ]
  },
  {
   "cell_type": "code",
   "execution_count": 34,
   "metadata": {},
   "outputs": [
    {
     "data": {
      "image/png": "[encoded data removed]",
      "text/plain": [
       "<Figure size 432x288 with 1 Axes>"
      ]
     },
     "metadata": {
      "needs_background": "light"
     },
     "output_type": "display_data"
    }
   ],
   "source": [
    "plt.plot(range(1, 21), acc)\n",
    "plt.show()"
   ]
  },
  {
   "cell_type": "code",
   "execution_count": 31,
   "metadata": {},
   "outputs": [
    {
     "data": {
      "text/plain": [
       "[0.7913875598086124,\n",
       " 0.7913875598086124,\n",
       " 0.7913875598086124,\n",
       " 0.7913875598086124,\n",
       " 0.7913875598086124,\n",
       " 0.7913875598086124,\n",
       " 0.7913875598086124,\n",
       " 0.7913875598086124,\n",
       " 0.7913875598086124,\n",
       " 0.7913875598086124,\n",
       " 0.7913875598086124,\n",
       " 0.7913875598086124,\n",
       " 0.7913875598086124,\n",
       " 0.7913875598086124,\n",
       " 0.7913875598086124,\n",
       " 0.7913875598086124,\n",
       " 0.7913875598086124,\n",
       " 0.7913875598086124,\n",
       " 0.7913875598086124,\n",
       " 0.7913875598086124]"
      ]
     },
     "execution_count": 31,
     "metadata": {},
     "output_type": "execute_result"
    }
   ],
   "source": [
    "df['T']"
   ]
  },
  {
   "cell_type": "code",
   "execution_count": 25,
   "metadata": {},
   "outputs": [
    {
     "data": {
      "text/plain": [
       "0       1\n",
       "1       1\n",
       "2       0\n",
       "3       0\n",
       "4       0\n",
       "       ..\n",
       "1040    0\n",
       "1041    0\n",
       "1042    0\n",
       "1043    0\n",
       "1044    0\n",
       "Name: Survived, Length: 1045, dtype: int64"
      ]
     },
     "execution_count": 25,
     "metadata": {},
     "output_type": "execute_result"
    }
   ],
   "source": [
    "y"
   ]
  },
  {
   "cell_type": "code",
   "execution_count": null,
   "metadata": {},
   "outputs": [],
   "source": []
  }
 ],
 "metadata": {
  "kernelspec": {
   "display_name": "Python 3",
   "language": "python",
   "name": "python3"
  },
  "language_info": {
   "codemirror_mode": {
    "name": "ipython",
    "version": 3
   },
   "file_extension": ".py",
   "mimetype": "text/x-python",
   "name": "python",
   "nbconvert_exporter": "python",
   "pygments_lexer": "ipython3",
   "version": "3.7.7"
  }
 },
 "nbformat": 4,
 "nbformat_minor": 4
}

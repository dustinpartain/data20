{
 "cells": [
  {
   "cell_type": "code",
   "execution_count": 31,
   "metadata": {},
   "outputs": [],
   "source": [
    "import pandas as pd\n",
    "import statsmodels.api as sm"
   ]
  },
  {
   "cell_type": "code",
   "execution_count": 47,
   "metadata": {},
   "outputs": [
    {
     "name": "stdout",
     "output_type": "stream",
     "text": [
      "Optimization terminated successfully.\n",
      "         Current function value: 0.477957\n",
      "         Iterations 6\n"
     ]
    }
   ],
   "source": [
    "df = pd.read_excel('Titanic Classification Data.xlsx')\n",
    "mlin = sm.OLS(df.iloc[:, 0], df.iloc[:,1:]).fit()\n",
    "mlog = sm.Logit(df.iloc[:, 0], df.iloc[:,1:]).fit()\n",
    "df['Logit Prediction'] = [1 if x >= 0.5 else 0 for x in mlog.predict()]\n",
    "df.to_excel('Titanic Classification.xlsx')\n",
    "with open(\"Titanic Classification Results.csv\", \"w\") as f:\n",
    "    f.write(mlin.summary().as_csv())\n",
    "    f.write(mlog.summary().as_csv())"
   ]
  },
  {
   "cell_type": "code",
   "execution_count": 49,
   "metadata": {},
   "outputs": [
    {
     "name": "stdout",
     "output_type": "stream",
     "text": [
      "Optimization terminated successfully.\n",
      "         Current function value: 0.301395\n",
      "         Iterations 8\n"
     ]
    }
   ],
   "source": [
    "df = pd.read_excel('NLSY Classification Data.xlsx')\n",
    "mlin = sm.OLS(df.iloc[:, 0], df.iloc[:,1:]).fit()\n",
    "mlog = sm.Logit(df.iloc[:, 0], df.iloc[:,1:]).fit()\n",
    "df['Logit Prediction'] = [1 if x >= 0.5 else 0 for x in mlog.predict()]\n",
    "df.to_excel('NLSY Classification.xlsx')\n",
    "with open(\"NLSY Classification Results.csv\", \"w\") as f:\n",
    "    f.write(mlin.summary().as_csv())\n",
    "    f.write(mlog.summary().as_csv())"
   ]
  },
  {
   "cell_type": "code",
   "execution_count": null,
   "metadata": {},
   "outputs": [],
   "source": []
  }
 ],
 "metadata": {
  "kernelspec": {
   "display_name": "Python 3",
   "language": "python",
   "name": "python3"
  },
  "language_info": {
   "codemirror_mode": {
    "name": "ipython",
    "version": 3
   },
   "file_extension": ".py",
   "mimetype": "text/x-python",
   "name": "python",
   "nbconvert_exporter": "python",
   "pygments_lexer": "ipython3",
   "version": "3.7.7"
  }
 },
 "nbformat": 4,
 "nbformat_minor": 4
}

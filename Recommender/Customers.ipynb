{
 "cells": [
  {
   "cell_type": "markdown",
   "metadata": {},
   "source": [
    "# Product Recommendations"
   ]
  },
  {
   "cell_type": "code",
   "execution_count": 1,
   "metadata": {},
   "outputs": [],
   "source": [
    "%matplotlib ipympl\n",
    "\n",
    "import warnings\n",
    "import numpy as np\n",
    "import pandas as pd\n",
    "from sklearn import preprocessing, model_selection, metrics\n",
    "from sklearn.neighbors import KNeighborsClassifier \n",
    "import matplotlib.pyplot as plt\n",
    "import seaborn as sns\n",
    "\n",
    "sns.set()"
   ]
  },
  {
   "cell_type": "code",
   "execution_count": 3,
   "metadata": {},
   "outputs": [],
   "source": [
    "# Load data\n",
    "df = pd.read_excel('Customers.xlsx')\n",
    "df = pd.get_dummies(df, columns=['Gender', 'Married'])\n",
    "df = df.drop(['ID', 'Gender_Male', 'Married_No'], axis=1)\n",
    "\n",
    "y = df['Product'].to_numpy()\n",
    "X = df.drop('Product', axis=1).to_numpy()"
   ]
  },
  {
   "cell_type": "code",
   "execution_count": 4,
   "metadata": {},
   "outputs": [],
   "source": [
    "# Prepare data.\n",
    "def prepare(d):\n",
    "    return(np.hstack([preprocessing.normalize(d[:, 0:2], axis=0),\n",
    "                      d[:, 2:4]]))\n",
    "\n",
    "\n",
    "with warnings.catch_warnings():\n",
    "    warnings.simplefilter('ignore')\n",
    "    X = prepare(X)"
   ]
  },
  {
   "cell_type": "code",
   "execution_count": 5,
   "metadata": {},
   "outputs": [],
   "source": [
    "# Split training and test data\n",
    "X_train, X_test, y_train, y_test = model_selection.train_test_split(X, y)"
   ]
  },
  {
   "cell_type": "code",
   "execution_count": 13,
   "metadata": {},
   "outputs": [],
   "source": [
    "# Fit the model. Tune the number of neighbors, K\n",
    "neighbors = list(range(10, 100, 10))\n",
    "\n",
    "# Cross-validate using 10-fold approach.\n",
    "# (For each possible value of kTest the model 10 times, randomly leaving out\n",
    "# 1/10 of training data to evaluate performance)\n",
    "percent_correct = []\n",
    "for k in neighbors:\n",
    "    knn = KNeighborsClassifier(n_neighbors=k)\n",
    "    scores = model_selection.cross_val_score(knn, X_train, y_train, cv=10,\n",
    "                                             scoring='accuracy')\n",
    "    percent_correct.append(100 * scores.mean())\n"
   ]
  },
  {
   "cell_type": "code",
   "execution_count": 14,
   "metadata": {},
   "outputs": [
    {
     "data": {
      "text/plain": [
       "30"
      ]
     },
     "execution_count": 14,
     "metadata": {},
     "output_type": "execute_result"
    }
   ],
   "source": [
    "# Determine best k.\n",
    "k_best = neighbors[np.argmax(percent_correct)]\n",
    "k_best"
   ]
  },
  {
   "cell_type": "code",
   "execution_count": 15,
   "metadata": {},
   "outputs": [],
   "source": [
    "# Plot misclassification error vs. K\n",
    "plt.plot(neighbors, percent_correct)\n",
    "plt.xlabel('K')\n",
    "plt.ylabel('Percent Correct')\n",
    "plt.show()"
   ]
  },
  {
   "cell_type": "code",
   "execution_count": 16,
   "metadata": {},
   "outputs": [
    {
     "data": {
      "text/plain": [
       "'73.11999999999999%'"
      ]
     },
     "execution_count": 16,
     "metadata": {},
     "output_type": "execute_result"
    }
   ],
   "source": [
    "# Fit model.\n",
    "knn = KNeighborsClassifier(n_neighbors=k_best)\n",
    "knn.fit(X_train, y_train)\n",
    "\n",
    "# Predict outcomes.\n",
    "predictions = knn.predict(X_test)\n",
    "\n",
    "# Get accuracy on test data.\n",
    "'{}%'.format(100 * metrics.accuracy_score(y_test, predictions))"
   ]
  },
  {
   "cell_type": "code",
   "execution_count": 17,
   "metadata": {},
   "outputs": [],
   "source": [
    "# Potential customers.\n",
    "Xnew = [[25, 90000, 1, 0],\n",
    "        [55, 30000, 1, 0],\n",
    "        [50, 70000, 1, 1],\n",
    "        [25, 75000, 0, 0],\n",
    "        [58, 45000, 0, 0],\n",
    "        [28, 70000, 0, 1]]\n",
    "\n",
    "with warnings.catch_warnings():\n",
    "    warnings.simplefilter('ignore')\n",
    "    Xnew = prepare(np.array(Xnew))"
   ]
  },
  {
   "cell_type": "code",
   "execution_count": 18,
   "metadata": {},
   "outputs": [
    {
     "data": {
      "text/plain": [
       "array(['A', 'A', 'A', 'C', 'C', 'D'], dtype=object)"
      ]
     },
     "execution_count": 18,
     "metadata": {},
     "output_type": "execute_result"
    }
   ],
   "source": [
    "# Predict products.\n",
    "knn.predict(Xnew)"
   ]
  },
  {
   "cell_type": "code",
   "execution_count": 19,
   "metadata": {},
   "outputs": [
    {
     "data": {
      "text/plain": [
       "array([[0.9       , 0.1       , 0.        , 0.        ],\n",
       "       [0.56666667, 0.43333333, 0.        , 0.        ],\n",
       "       [0.96666667, 0.03333333, 0.        , 0.        ],\n",
       "       [0.        , 0.        , 0.9       , 0.1       ],\n",
       "       [0.        , 0.        , 0.8       , 0.2       ],\n",
       "       [0.        , 0.        , 0.23333333, 0.76666667]])"
      ]
     },
     "execution_count": 19,
     "metadata": {},
     "output_type": "execute_result"
    }
   ],
   "source": [
    "# Calculate probabilities.\n",
    "knn.predict_proba(Xnew)"
   ]
  },
  {
   "cell_type": "code",
   "execution_count": null,
   "metadata": {},
   "outputs": [],
   "source": []
  }
 ],
 "metadata": {
  "kernelspec": {
   "display_name": "Python 3",
   "language": "python",
   "name": "python3"
  },
  "language_info": {
   "codemirror_mode": {
    "name": "ipython",
    "version": 3
   },
   "file_extension": ".py",
   "mimetype": "text/x-python",
   "name": "python",
   "nbconvert_exporter": "python",
   "pygments_lexer": "ipython3",
   "version": "3.7.7"
  }
 },
 "nbformat": 4,
 "nbformat_minor": 4
}
